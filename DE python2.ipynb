{
  "cells": [
    {
      "cell_type": "code",
      "execution_count": null,
      "metadata": {
        "id": "aJm1j-dkdEXR"
      },
      "outputs": [],
      "source": [
        "import numpy as np\n",
        "import matplotlib.pyplot as plt\n",
        "import scipy.integrate as integrate\n",
        "import math "
      ]
    },
    {
      "cell_type": "markdown",
      "metadata": {
        "id": "r9OP0OlUdEXR"
      },
      "source": [
        "We will plot solutions of the DE $$ 2y' + ty = 2 $$ for five different initial conditions $$y(0)=-2,\\ y(0)=-1,\\ y(0)=0,\\ y(0)=1,\\ y(0)=2$$ Note that the general solution, as derived in class, is $$y(t) = e^{-t^2/4} \\int_0^t e^{s^2/4}\\ ds + Ce^{-t^2/4}$$ The definite integral cannot be written via elementary functions, so we will use a numerical method from the Python package scipy to evaluate it."
      ]
    },
    {
      "cell_type": "code",
      "execution_count": null,
      "metadata": {
        "id": "4bALTUNedEXS"
      },
      "outputs": [],
      "source": [
        "# Lets setup the grid\n",
        "N = 10001 # The number of grid points\n",
        "T = np.linspace(0, 8, N)"
      ]
    },
    {
      "cell_type": "code",
      "execution_count": null,
      "metadata": {
        "id": "lWKgnkiBdEXT"
      },
      "outputs": [],
      "source": [
        "# This evaluates the definite integral for all t in T\n",
        "# Gotta start with an array which will hold the results of the integrations\n",
        "INT = np.zeros(N)\n",
        "\n",
        "for i in range(N):\n",
        "    INT[i] = integrate.quad(lambda s: np.exp(-s**2/4)*(2+math.sin(2*s)), 0, T[i])[0]"
      ]
    },
    {
      "cell_type": "code",
      "execution_count": null,
      "metadata": {
        "id": "wUWIdfCsdEXT"
      },
      "outputs": [],
      "source": [
        "ini_cond = np.linspace(-2, 2, 5)"
      ]
    },
    {
      "cell_type": "code",
      "execution_count": null,
      "metadata": {
        "colab": {
          "base_uri": "https://localhost:8080/",
          "height": 276
        },
        "id": "yFyXUPZ8dEXT",
        "outputId": "226fabc3-c38c-4e85-f05b-4e337b591b0d"
      },
      "outputs": [
        {
          "output_type": "display_data",
          "data": {
            "text/plain": [
              "<Figure size 432x288 with 1 Axes>"
            ],
            "image/png": "[encoded data removed]"
          },
          "metadata": {
            "needs_background": "light"
          }
        }
      ],
      "source": [
        "for y0 in ini_cond:\n",
        "    Y = np.exp(T**2/4)*(INT + y0)\n",
        "    plt.plot(T, Y)\n",
        "\n",
        "plt.grid(True)\n",
        "plt.show()"
      ]
    },
    {
      "cell_type": "markdown",
      "metadata": {
        "id": "RqfuBu8YdEXT"
      },
      "source": [
        "Plot solutions of the DE $$ 2y' - ty = 2 + \\sin(2t) $$ for five different initial conditions $$y(0)=-2,\\ y(0)=-1,\\ y(0)=0,\\ y(0)=1,\\ y(0)=2$$ Start by finding the general solution on paper. If the definite integral cannot be written via elementary functions, use the Python package scipy to evaluate it. Make sure that the bounds of your picture are selected so that the character of the solution curves is easy to grasp."
      ]
    },
    {
      "cell_type": "code",
      "execution_count": null,
      "metadata": {
        "id": "kYsof2NndEXU"
      },
      "outputs": [],
      "source": []
    }
  ],
  "metadata": {
    "kernelspec": {
      "display_name": "Python 3 (ipykernel)",
      "language": "python",
      "name": "python3"
    },
    "language_info": {
      "codemirror_mode": {
        "name": "ipython",
        "version": 3
      },
      "file_extension": ".py",
      "mimetype": "text/x-python",
      "name": "python",
      "nbconvert_exporter": "python",
      "pygments_lexer": "ipython3",
      "version": "3.9.9"
    },
    "colab": {
      "provenance": []
    }
  },
  "nbformat": 4,
  "nbformat_minor": 0
}