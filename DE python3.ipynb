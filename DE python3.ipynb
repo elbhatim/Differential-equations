{
  "cells": [
    {
      "cell_type": "code",
      "execution_count": null,
      "metadata": {
        "id": "m06juiJMg6kD"
      },
      "outputs": [],
      "source": [
        "import numpy as np\n",
        "import matplotlib.pyplot as plt"
      ]
    },
    {
      "cell_type": "code",
      "execution_count": null,
      "metadata": {
        "id": "R5WNH4Osg6kD"
      },
      "outputs": [],
      "source": [
        "# solving the initial value problem\n",
        "# y' = 3 + 9t + y/2, y(0) = -40\n",
        "\n",
        "def slope(y, t):\n",
        "    sl = (t**2+3*y**2)/(2*t*y)\n",
        "    return(sl)"
      ]
    },
    {
      "cell_type": "code",
      "execution_count": null,
      "metadata": {
        "id": "l9J0Ma5Og6kE"
      },
      "outputs": [],
      "source": [
        "# Setting up the grid\n",
        "t0 = 1\n",
        "y0 = 1\n",
        "tf = 10\n",
        "n = 100\n",
        "dt = (tf-t0)/n\n",
        "\n",
        "T = np.linspace(t0, tf, n+1)"
      ]
    },
    {
      "cell_type": "code",
      "execution_count": null,
      "metadata": {
        "id": "lwGq2xKWg6kE"
      },
      "outputs": [],
      "source": [
        "# Array to store of the y-values\n",
        "y = np.zeros(n+1)\n",
        "y[0] = y0"
      ]
    },
    {
      "cell_type": "code",
      "execution_count": null,
      "metadata": {
        "id": "_2OILJntg6kE"
      },
      "outputs": [],
      "source": [
        "# Euler's iteration\n",
        "for i in range(n):\n",
        "    y[i+1] = y[i] + slope(y[i], t0 + i*dt)*dt"
      ]
    },
    {
      "cell_type": "code",
      "execution_count": null,
      "metadata": {
        "id": "TODLH7lMg6kE"
      },
      "outputs": [],
      "source": [
        "# setting up the theoretical solution\n",
        "Y = T*np.sqrt(2*T-1)"
      ]
    },
    {
      "cell_type": "code",
      "execution_count": null,
      "metadata": {
        "colab": {
          "base_uri": "https://localhost:8080/",
          "height": 308
        },
        "id": "WxMP-reXg6kE",
        "outputId": "b725121c-6015-444b-efc6-b8025267b95b"
      },
      "outputs": [
        {
          "output_type": "display_data",
          "data": {
            "text/plain": [
              "<Figure size 432x288 with 1 Axes>"
            ],
            "image/png": "[encoded data removed]"
          },
          "metadata": {
            "needs_background": "light"
          }
        }
      ],
      "source": [
        "plt.plot(T, y, 'r', T, Y, 'g')\n",
        "plt.xlabel('t')\n",
        "plt.ylabel('y')\n",
        "plt.suptitle('Euler numerical solution (red) versus Analytical solution (green)')\n",
        "plt.show()"
      ]
    },
    {
      "cell_type": "code",
      "execution_count": null,
      "metadata": {
        "colab": {
          "base_uri": "https://localhost:8080/",
          "height": 308
        },
        "id": "xfCdFZROg6kF",
        "outputId": "743dc843-3a90-40f7-e9c3-f3f9a063b9fc"
      },
      "outputs": [
        {
          "output_type": "display_data",
          "data": {
            "text/plain": [
              "<Figure size 432x288 with 1 Axes>"
            ],
            "image/png": "[encoded data removed]"
          },
          "metadata": {
            "needs_background": "light"
          }
        }
      ],
      "source": [
        "# Lets also plot the discrepancies\n",
        "plt.plot(T, Y-y, 'b')\n",
        "plt.xlabel('t')\n",
        "plt.ylabel('Y-y')\n",
        "plt.suptitle('Difference between the Analytical and the Euler numerical solutions')\n",
        "plt.show()"
      ]
    },
    {
      "cell_type": "markdown",
      "metadata": {
        "id": "LFtsQAXvg6kF"
      },
      "source": [
        "Consider the initial value problem\n",
        "$$ \\frac{dy}{dx} = \\frac{x^2+3y^2}{2xy}, \\;\\;\\; y(1) = 1 $$\n",
        "Implement the Euler method for this initial value problem on the interval $x\\in [1,10]$ with $n=100$ steps along the $x$-axis.\n",
        "\n",
        "The analytical solution (see p.50 of the book if you are curious how to\n",
        "derive it) of this initial value problem is $$y = x\\sqrt{2x-1}$$. On the same graph plot the Euler approximation as well as the graph of the analytical solution. Separately, plot a graph of the discrepancies between the analytical solution and the Euler approximation."
      ]
    },
    {
      "cell_type": "code",
      "execution_count": null,
      "metadata": {
        "id": "Bb-YJvCBg6kG"
      },
      "outputs": [],
      "source": []
    }
  ],
  "metadata": {
    "kernelspec": {
      "display_name": "Python 3 (ipykernel)",
      "language": "python",
      "name": "python3"
    },
    "language_info": {
      "codemirror_mode": {
        "name": "ipython",
        "version": 3
      },
      "file_extension": ".py",
      "mimetype": "text/x-python",
      "name": "python",
      "nbconvert_exporter": "python",
      "pygments_lexer": "ipython3",
      "version": "3.9.9"
    },
    "colab": {
      "provenance": []
    }
  },
  "nbformat": 4,
  "nbformat_minor": 0
}